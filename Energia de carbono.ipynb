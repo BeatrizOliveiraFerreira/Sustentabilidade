{
 "cells": [
  {
   "cell_type": "markdown",
   "id": "97f49717",
   "metadata": {},
   "source": [
    "# Como desenvolver e melhorar ainda mais o mercado tecnológico de maneira mais sustentável:"
   ]
  },
  {
   "cell_type": "markdown",
   "id": "fc1466a3",
   "metadata": {},
   "source": [
    "# Passo 1 - Objetivo da GFT : \n",
    "(\"Jens-Thorsten Rauer (Jetho) é o mais novo integrante da GFT e do Conselho Executivo do Grupo em 2020, \n",
    "responsável pelas regiões da Europa Central e Ocidental. \n",
    "Seus objetivos são desenvolver ainda mais esses mercados e impulsionar o crescimento e a lucratividade \n",
    "de maneira sustentável nas duas regiões.\")\n",
    "Site: https://www.gft.com/br/pt/index/empresa/sobre-a-gft/group-executive-board/\n",
    "\n",
    "# Passo 2 - Aumento de Carbono: \n",
    "- Site: https://www.ecodebate.com.br/2021/01/06/concentracao-de-co2-bate-recorde-em-2020-mesmo-com-pandemia/\n",
    "    \n",
    "# Passo 3 - Medidas apresentadas pelas Políticas da União da Europa\n",
    "- Medidas apresentadas pelas Políticas da União da Europa\n",
    "- Site: https://www.eea.europa.eu/pt/themes/energy/intro\n",
    "- Importar tabela de energia\n",
    "    \n",
    "# Passo 4 - Minha ideia análise e Conclusão\n",
    "- Gráficos e pesquisas"
   ]
  },
  {
   "cell_type": "markdown",
   "id": "94c20d82",
   "metadata": {},
   "source": [
    "                                        AUMENTO DE CARBONO NOS ÚLTIMOS ANOS\n",
    "\n",
    "<img src=\"carbono_aumento.png\" style=\"margin-left:30px;\"/>"
   ]
  },
  {
   "cell_type": "code",
   "execution_count": 78,
   "id": "2798ffe3",
   "metadata": {},
   "outputs": [
    {
     "data": {
      "text/html": [
       "<div>\n",
       "<style scoped>\n",
       "    .dataframe tbody tr th:only-of-type {\n",
       "        vertical-align: middle;\n",
       "    }\n",
       "\n",
       "    .dataframe tbody tr th {\n",
       "        vertical-align: top;\n",
       "    }\n",
       "\n",
       "    .dataframe thead th {\n",
       "        text-align: right;\n",
       "    }\n",
       "</style>\n",
       "<table border=\"1\" class=\"dataframe\">\n",
       "  <thead>\n",
       "    <tr style=\"text-align: right;\">\n",
       "      <th></th>\n",
       "      <th>materias primas</th>\n",
       "      <th>Porcentagem</th>\n",
       "      <th>Unnamed: 2</th>\n",
       "    </tr>\n",
       "  </thead>\n",
       "  <tbody>\n",
       "    <tr>\n",
       "      <th>0</th>\n",
       "      <td>Petróleo, gás, carvão</td>\n",
       "      <td>0.77</td>\n",
       "      <td>NaN</td>\n",
       "    </tr>\n",
       "    <tr>\n",
       "      <th>1</th>\n",
       "      <td>Energia Nuclear</td>\n",
       "      <td>0.14</td>\n",
       "      <td>NaN</td>\n",
       "    </tr>\n",
       "    <tr>\n",
       "      <th>2</th>\n",
       "      <td>Energias renováveis</td>\n",
       "      <td>0.09</td>\n",
       "      <td>NaN</td>\n",
       "    </tr>\n",
       "  </tbody>\n",
       "</table>\n",
       "</div>"
      ],
      "text/plain": [
       "         materias primas  Porcentagem  Unnamed: 2\n",
       "0  Petróleo, gás, carvão         0.77         NaN\n",
       "1        Energia Nuclear         0.14         NaN\n",
       "2    Energias renováveis         0.09         NaN"
      ]
     },
     "metadata": {},
     "output_type": "display_data"
    }
   ],
   "source": [
    "import pandas as pd\n",
    "\n",
    "tabela = pd.read_excel(\"materias primas.xlsx\")\n",
    "display(tabela)"
   ]
  },
  {
   "cell_type": "code",
   "execution_count": 79,
   "id": "15a3cef5",
   "metadata": {},
   "outputs": [
    {
     "data": {
      "text/html": [
       "<div>\n",
       "<style scoped>\n",
       "    .dataframe tbody tr th:only-of-type {\n",
       "        vertical-align: middle;\n",
       "    }\n",
       "\n",
       "    .dataframe tbody tr th {\n",
       "        vertical-align: top;\n",
       "    }\n",
       "\n",
       "    .dataframe thead th {\n",
       "        text-align: right;\n",
       "    }\n",
       "</style>\n",
       "<table border=\"1\" class=\"dataframe\">\n",
       "  <thead>\n",
       "    <tr style=\"text-align: right;\">\n",
       "      <th></th>\n",
       "      <th>materias primas</th>\n",
       "      <th>Porcentagem</th>\n",
       "    </tr>\n",
       "  </thead>\n",
       "  <tbody>\n",
       "    <tr>\n",
       "      <th>0</th>\n",
       "      <td>Petróleo, gás, carvão</td>\n",
       "      <td>0.77</td>\n",
       "    </tr>\n",
       "    <tr>\n",
       "      <th>1</th>\n",
       "      <td>Energia Nuclear</td>\n",
       "      <td>0.14</td>\n",
       "    </tr>\n",
       "    <tr>\n",
       "      <th>2</th>\n",
       "      <td>Energias renováveis</td>\n",
       "      <td>0.09</td>\n",
       "    </tr>\n",
       "  </tbody>\n",
       "</table>\n",
       "</div>"
      ],
      "text/plain": [
       "         materias primas  Porcentagem\n",
       "0  Petróleo, gás, carvão         0.77\n",
       "1        Energia Nuclear         0.14\n",
       "2    Energias renováveis         0.09"
      ]
     },
     "metadata": {},
     "output_type": "display_data"
    }
   ],
   "source": [
    "tabela = tabela.drop(\"Unnamed: 2\", axis=1)\n",
    "display(tabela)"
   ]
  },
  {
   "cell_type": "code",
   "execution_count": 80,
   "id": "7e56a9d0",
   "metadata": {},
   "outputs": [
    {
     "data": {
      "image/png": "[encoded data removed]",
      "text/plain": [
       "<Figure size 180x180 with 2 Axes>"
      ]
     },
     "metadata": {
      "needs_background": "light"
     },
     "output_type": "display_data"
    }
   ],
   "source": [
    "import seaborn as sns\n",
    "import matplotlib.pyplot as plt\n",
    "\n",
    "sns.pairplot(tabela)\n",
    "plt.show()"
   ]
  },
  {
   "cell_type": "markdown",
   "id": "cc1b8144",
   "metadata": {},
   "source": [
    "Análise:                                             \n",
    "- Um dos objetivos da GFT é melhorar ainda mais a sustentabilidade na Europa Central e Ocidental\n",
    "- A porcentagem do uso de fontes renováveis ainda são menores do que o uso do Petróleo, gás, carvão, e energia nuclear, prejudicando ainda mais o meio ambiente\n",
    "- Segundo as Políticas da União Europeia a meta é Obter 20% da energia consumida na Europa a partir de fontes renováveis.\n",
    "                                                \n",
    "Conclusão:                                              \n",
    "- Além dos projetos de impacto positivo de sustentabilidade, como por exemplo, do banco itaú, a biometria de Geometria das mãos no lugar dos cartões de crédito ou débito quando pagos de forma física, diminui o prejuízo ao meio ambiente na fabricação e utilização das matérias primas usadas para fazer cartões, outro benefício: ter mais proteção de dados dos clientes, gerando assim, mais confiança."
   ]
  }
 ],
 "metadata": {
  "kernelspec": {
   "display_name": "Python 3",
   "language": "python",
   "name": "python3"
  },
  "language_info": {
   "codemirror_mode": {
    "name": "ipython",
    "version": 3
   },
   "file_extension": ".py",
   "mimetype": "text/x-python",
   "name": "python",
   "nbconvert_exporter": "python",
   "pygments_lexer": "ipython3",
   "version": "3.8.8"
  }
 },
 "nbformat": 4,
 "nbformat_minor": 5
}
